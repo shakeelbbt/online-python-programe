{
  "nbformat": 4,
  "nbformat_minor": 0,
  "metadata": {
    "colab": {
      "name": "Assignment No. 1-Data Science- shakeel.ipynb",
      "provenance": [],
      "collapsed_sections": []
    },
    "kernelspec": {
      "name": "python3",
      "display_name": "Python 3"
    },
    "language_info": {
      "name": "python"
    }
  },
  "cells": [
    {
      "cell_type": "markdown",
      "source": [
        "## Answer # 1"
      ],
      "metadata": {
        "id": "iwcHLqTgxhKb"
      }
    },
    {
      "cell_type": "code",
      "execution_count": 1,
      "metadata": {
        "colab": {
          "base_uri": "https://localhost:8080/"
        },
        "id": "sH4i4vnyxVFu",
        "outputId": "94f7ba72-fc97-412e-d644-6fede8af0a01"
      },
      "outputs": [
        {
          "output_type": "stream",
          "name": "stdout",
          "text": [
            "\n",
            "\n",
            "Twinkle, twinkle, little star\n",
            "         How I wonder what you are!\n",
            "                Up above the world so high,\n",
            "                Like a diamond in the sky.\n",
            "Twinkle, twinkle, little star\n",
            "         How I wonder what you are!\n",
            "         \n",
            "         \n"
          ]
        }
      ],
      "source": [
        "message = '''\n",
        "\n",
        "Twinkle, twinkle, little star\n",
        "         How I wonder what you are!\n",
        "                Up above the world so high,\n",
        "                Like a diamond in the sky.\n",
        "Twinkle, twinkle, little star\n",
        "         How I wonder what you are!\n",
        "         \n",
        "         '''\n",
        "print(message)"
      ]
    },
    {
      "cell_type": "code",
      "source": [
        ""
      ],
      "metadata": {
        "id": "W2zx6b6oxcSb"
      },
      "execution_count": null,
      "outputs": []
    },
    {
      "cell_type": "markdown",
      "source": [
        "## Answer # 2"
      ],
      "metadata": {
        "id": "sWPg2QhNxoPC"
      }
    },
    {
      "cell_type": "code",
      "source": [
        "import sys\n",
        "print(\"Python version\")\n",
        "print(sys.version)\n",
        "print(\"Version info.\")\n",
        "print(sys.version_info)"
      ],
      "metadata": {
        "colab": {
          "base_uri": "https://localhost:8080/"
        },
        "id": "zJ0-HfbLxslU",
        "outputId": "4045ad9a-b07e-4c97-dcaf-a6548158f480"
      },
      "execution_count": 2,
      "outputs": [
        {
          "output_type": "stream",
          "name": "stdout",
          "text": [
            "Python version\n",
            "3.7.12 (default, Sep 10 2021, 00:21:48) \n",
            "[GCC 7.5.0]\n",
            "Version info.\n",
            "sys.version_info(major=3, minor=7, micro=12, releaselevel='final', serial=0)\n"
          ]
        }
      ]
    },
    {
      "cell_type": "code",
      "source": [
        ""
      ],
      "metadata": {
        "id": "dXs_YI5WxwiD"
      },
      "execution_count": null,
      "outputs": []
    },
    {
      "cell_type": "markdown",
      "source": [
        "## Answer # 3"
      ],
      "metadata": {
        "id": "E9v1vrbVxze0"
      }
    },
    {
      "cell_type": "code",
      "source": [
        "import datetime\n",
        "now = datetime.datetime.now()\n",
        "print (\"Current date and time : \")\n",
        "print (now.strftime(\"%Y-%m-%d %H:%M:%S\"))"
      ],
      "metadata": {
        "colab": {
          "base_uri": "https://localhost:8080/"
        },
        "id": "b2mVV1XXx24D",
        "outputId": "eebeff79-3ee4-46b6-f60f-e0acba82eaf5"
      },
      "execution_count": 3,
      "outputs": [
        {
          "output_type": "stream",
          "name": "stdout",
          "text": [
            "Current date and time : \n",
            "2022-01-01 17:55:06\n"
          ]
        }
      ]
    },
    {
      "cell_type": "code",
      "source": [
        ""
      ],
      "metadata": {
        "id": "9EIQV3nkx9l7"
      },
      "execution_count": null,
      "outputs": []
    },
    {
      "cell_type": "markdown",
      "source": [
        "## Answer # 4"
      ],
      "metadata": {
        "id": "x_Nq45U_yApm"
      }
    },
    {
      "cell_type": "code",
      "source": [
        "import math\n",
        "\n",
        "\n",
        "def circle_area(radius):\n",
        "    radius = int(input(\"Enter the radius:\\n\"))\n",
        "    return f\"The area of circle having radius {radius} is {(math.pi) * pow(radius, 2)}\"\n",
        "\n",
        "\n",
        "print(circle_area(0))\n"
      ],
      "metadata": {
        "colab": {
          "base_uri": "https://localhost:8080/"
        },
        "id": "lA9kcoTeyD9J",
        "outputId": "d16830fc-85fc-4294-fb19-8580e28aa540"
      },
      "execution_count": 4,
      "outputs": [
        {
          "output_type": "stream",
          "name": "stdout",
          "text": [
            "Enter the radius:\n",
            "2\n",
            "The area of circle having radius 2 is 12.566370614359172\n"
          ]
        }
      ]
    },
    {
      "cell_type": "code",
      "source": [
        ""
      ],
      "metadata": {
        "id": "DUB6G7wRyIfH"
      },
      "execution_count": 5,
      "outputs": []
    },
    {
      "cell_type": "markdown",
      "source": [
        "## Answer # 5"
      ],
      "metadata": {
        "id": "T3hgj2pLyRsj"
      }
    },
    {
      "cell_type": "code",
      "source": [
        "def user(first_name, last_name):\n",
        "    return f\"{first_name[::-1]} {last_name[::-1]} \"\n",
        "\n",
        "\n",
        "result = user(\"shakeel\", \"khan\")\n",
        "\n",
        "print(result)"
      ],
      "metadata": {
        "colab": {
          "base_uri": "https://localhost:8080/"
        },
        "id": "wg6sG-BbyPAE",
        "outputId": "a1b4ed6b-0a03-4dc5-b1f0-c2f33e689b2a"
      },
      "execution_count": 6,
      "outputs": [
        {
          "output_type": "stream",
          "name": "stdout",
          "text": [
            "leekahs nahk \n"
          ]
        }
      ]
    },
    {
      "cell_type": "code",
      "source": [
        ""
      ],
      "metadata": {
        "id": "FcxJfHW4ydTK"
      },
      "execution_count": null,
      "outputs": []
    },
    {
      "cell_type": "markdown",
      "source": [
        "## Answer # 6"
      ],
      "metadata": {
        "id": "JuibRqbNyfy0"
      }
    },
    {
      "cell_type": "code",
      "source": [
        "input1 = int(input(\"Enter the first number:\\n\"))\n",
        "input2 = int(input(\"Enter the second number:\\n\"))\n",
        "sum = input1 + input2\n",
        "\n",
        "print(\"The sum of\", input1, \"and\", input2, \"is\", sum)"
      ],
      "metadata": {
        "colab": {
          "base_uri": "https://localhost:8080/"
        },
        "id": "mUHP48YSyiju",
        "outputId": "93f598bd-c478-4beb-af37-9c463fc39ae5"
      },
      "execution_count": 7,
      "outputs": [
        {
          "output_type": "stream",
          "name": "stdout",
          "text": [
            "Enter the first number:\n",
            "2\n",
            "Enter the second number:\n",
            "5\n",
            "The sum of 2 and 5 is 7\n"
          ]
        }
      ]
    },
    {
      "cell_type": "code",
      "source": [
        ""
      ],
      "metadata": {
        "id": "RTz1vp_iymhS"
      },
      "execution_count": null,
      "outputs": []
    }
  ]
}